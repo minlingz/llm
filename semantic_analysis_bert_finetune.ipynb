{
  "cells": [
    {
      "cell_type": "code",
      "execution_count": 1,
      "id": "891b5e34",
      "metadata": {
        "colab": {
          "base_uri": "https://localhost:8080/"
        },
        "id": "891b5e34",
        "outputId": "26863726-9cc0-42ce-b9d5-c6dd534445eb"
      },
      "outputs": [
        {
          "name": "stdout",
          "output_type": "stream",
          "text": [
            "Requirement already satisfied: datasets in /usr/local/lib/python3.10/dist-packages (2.18.0)\n",
            "Requirement already satisfied: filelock in /usr/local/lib/python3.10/dist-packages (from datasets) (3.13.1)\n",
            "Requirement already satisfied: numpy>=1.17 in /usr/local/lib/python3.10/dist-packages (from datasets) (1.25.2)\n",
            "Requirement already satisfied: pyarrow>=12.0.0 in /usr/local/lib/python3.10/dist-packages (from datasets) (14.0.2)\n",
            "Requirement already satisfied: pyarrow-hotfix in /usr/local/lib/python3.10/dist-packages (from datasets) (0.6)\n",
            "Requirement already satisfied: dill<0.3.9,>=0.3.0 in /usr/local/lib/python3.10/dist-packages (from datasets) (0.3.8)\n",
            "Requirement already satisfied: pandas in /usr/local/lib/python3.10/dist-packages (from datasets) (1.5.3)\n",
            "Requirement already satisfied: requests>=2.19.0 in /usr/local/lib/python3.10/dist-packages (from datasets) (2.31.0)\n",
            "Requirement already satisfied: tqdm>=4.62.1 in /usr/local/lib/python3.10/dist-packages (from datasets) (4.66.2)\n",
            "Requirement already satisfied: xxhash in /usr/local/lib/python3.10/dist-packages (from datasets) (3.4.1)\n",
            "Requirement already satisfied: multiprocess in /usr/local/lib/python3.10/dist-packages (from datasets) (0.70.16)\n",
            "Requirement already satisfied: fsspec[http]<=2024.2.0,>=2023.1.0 in /usr/local/lib/python3.10/dist-packages (from datasets) (2023.6.0)\n",
            "Requirement already satisfied: aiohttp in /usr/local/lib/python3.10/dist-packages (from datasets) (3.9.3)\n",
            "Requirement already satisfied: huggingface-hub>=0.19.4 in /usr/local/lib/python3.10/dist-packages (from datasets) (0.20.3)\n",
            "Requirement already satisfied: packaging in /usr/local/lib/python3.10/dist-packages (from datasets) (24.0)\n",
            "Requirement already satisfied: pyyaml>=5.1 in /usr/local/lib/python3.10/dist-packages (from datasets) (6.0.1)\n",
            "Requirement already satisfied: aiosignal>=1.1.2 in /usr/local/lib/python3.10/dist-packages (from aiohttp->datasets) (1.3.1)\n",
            "Requirement already satisfied: attrs>=17.3.0 in /usr/local/lib/python3.10/dist-packages (from aiohttp->datasets) (23.2.0)\n",
            "Requirement already satisfied: frozenlist>=1.1.1 in /usr/local/lib/python3.10/dist-packages (from aiohttp->datasets) (1.4.1)\n",
            "Requirement already satisfied: multidict<7.0,>=4.5 in /usr/local/lib/python3.10/dist-packages (from aiohttp->datasets) (6.0.5)\n",
            "Requirement already satisfied: yarl<2.0,>=1.0 in /usr/local/lib/python3.10/dist-packages (from aiohttp->datasets) (1.9.4)\n",
            "Requirement already satisfied: async-timeout<5.0,>=4.0 in /usr/local/lib/python3.10/dist-packages (from aiohttp->datasets) (4.0.3)\n",
            "Requirement already satisfied: typing-extensions>=3.7.4.3 in /usr/local/lib/python3.10/dist-packages (from huggingface-hub>=0.19.4->datasets) (4.10.0)\n",
            "Requirement already satisfied: charset-normalizer<4,>=2 in /usr/local/lib/python3.10/dist-packages (from requests>=2.19.0->datasets) (3.3.2)\n",
            "Requirement already satisfied: idna<4,>=2.5 in /usr/local/lib/python3.10/dist-packages (from requests>=2.19.0->datasets) (3.6)\n",
            "Requirement already satisfied: urllib3<3,>=1.21.1 in /usr/local/lib/python3.10/dist-packages (from requests>=2.19.0->datasets) (2.0.7)\n",
            "Requirement already satisfied: certifi>=2017.4.17 in /usr/local/lib/python3.10/dist-packages (from requests>=2.19.0->datasets) (2024.2.2)\n",
            "Requirement already satisfied: python-dateutil>=2.8.1 in /usr/local/lib/python3.10/dist-packages (from pandas->datasets) (2.8.2)\n",
            "Requirement already satisfied: pytz>=2020.1 in /usr/local/lib/python3.10/dist-packages (from pandas->datasets) (2023.4)\n",
            "Requirement already satisfied: six>=1.5 in /usr/local/lib/python3.10/dist-packages (from python-dateutil>=2.8.1->pandas->datasets) (1.16.0)\n"
          ]
        }
      ],
      "source": [
        "!pip install datasets\n",
        "import collections\n",
        "\n",
        "import datasets\n",
        "import matplotlib.pyplot as plt\n",
        "import numpy as np\n",
        "import torch\n",
        "import torch.nn as nn\n",
        "import torch.optim as optim\n",
        "import torchtext\n",
        "import tqdm\n",
        "import transformers"
      ]
    },
    {
      "cell_type": "code",
      "execution_count": 2,
      "id": "895ef909",
      "metadata": {
        "id": "895ef909"
      },
      "outputs": [],
      "source": [
        "seed = 1234\n",
        "\n",
        "np.random.seed(seed)\n",
        "torch.manual_seed(seed)\n",
        "torch.cuda.manual_seed(seed)\n",
        "torch.backends.cudnn.deterministic = True"
      ]
    },
    {
      "cell_type": "code",
      "execution_count": 3,
      "id": "555ca66c",
      "metadata": {
        "colab": {
          "base_uri": "https://localhost:8080/"
        },
        "id": "555ca66c",
        "outputId": "e62a0f52-e1bb-415d-9303-f28a1e422895"
      },
      "outputs": [
        {
          "name": "stderr",
          "output_type": "stream",
          "text": [
            "/usr/local/lib/python3.10/dist-packages/huggingface_hub/utils/_token.py:88: UserWarning: \n",
            "The secret `HF_TOKEN` does not exist in your Colab secrets.\n",
            "To authenticate with the Hugging Face Hub, create a token in your settings tab (https://huggingface.co/settings/tokens), set it as secret in your Google Colab and restart your session.\n",
            "You will be able to reuse this secret in all of your notebooks.\n",
            "Please note that authentication is recommended but still optional to access public models or datasets.\n",
            "  warnings.warn(\n"
          ]
        }
      ],
      "source": [
        "train_valid_data, test_data = datasets.load_dataset(\n",
        "    \"yelp_polarity\", split=[\"train\", \"test\"]\n",
        ")"
      ]
    },
    {
      "cell_type": "code",
      "execution_count": 4,
      "id": "98f4ab7c",
      "metadata": {
        "colab": {
          "base_uri": "https://localhost:8080/"
        },
        "id": "98f4ab7c",
        "outputId": "9d8f2bc4-462a-419d-ddfd-3b48f83d01b0"
      },
      "outputs": [
        {
          "data": {
            "text/plain": [
              "(Dataset({\n",
              "     features: ['text', 'label'],\n",
              "     num_rows: 448000\n",
              " }),\n",
              " Dataset({\n",
              "     features: ['text', 'label'],\n",
              "     num_rows: 112000\n",
              " }),\n",
              " Dataset({\n",
              "     features: ['text', 'label'],\n",
              "     num_rows: 38000\n",
              " }))"
            ]
          },
          "execution_count": 4,
          "metadata": {},
          "output_type": "execute_result"
        }
      ],
      "source": [
        "train_valid_split = train_valid_data.train_test_split(test_size=0.2)\n",
        "train_data = train_valid_split[\"train\"]\n",
        "valid_data = train_valid_split[\"test\"]\n",
        "train_data, valid_data, test_data"
      ]
    },
    {
      "cell_type": "code",
      "execution_count": 6,
      "id": "d0a1e49f",
      "metadata": {
        "id": "d0a1e49f"
      },
      "outputs": [],
      "source": [
        "transformer_name = \"bert-base-uncased\"\n",
        "\n",
        "tokenizer = transformers.AutoTokenizer.from_pretrained(transformer_name)"
      ]
    },
    {
      "cell_type": "code",
      "execution_count": 7,
      "id": "9358a7aa",
      "metadata": {
        "id": "9358a7aa"
      },
      "outputs": [],
      "source": [
        "def tokenize_and_numericalize_example(example, tokenizer):\n",
        "    ids = tokenizer(example[\"text\"], truncation=True)[\"input_ids\"]\n",
        "    return {\"ids\": ids}"
      ]
    },
    {
      "cell_type": "code",
      "execution_count": 8,
      "id": "d0259875",
      "metadata": {
        "colab": {
          "base_uri": "https://localhost:8080/",
          "height": 49,
          "referenced_widgets": [
            "2cf33435aebd471fbd3e0604978766a0",
            "25366f5c29cd4d7aa9c94d21de6ad90d",
            "b04fdea4a9474184b5a2cbd0d3428d34",
            "6ec3bf0e53a04b009781f78437832155",
            "b290c853a8ea4d60965a706fa5774643",
            "175804b2a988430b917390f976b0a97c",
            "53f7019128ce4fb3aa0d475070f6207e",
            "1cd37cc2178c4c0693dadc73b0a8f08f",
            "226e3da8a30d4ec3bb9096ef190acff0",
            "68e41c0a36b748d8b80bd132e2772186",
            "3eb508b375b54707b16ec35a11f512f1"
          ]
        },
        "id": "d0259875",
        "outputId": "fa7ac886-580e-4102-89e3-0f33f8d56ff0"
      },
      "outputs": [
        {
          "data": {
            "application/vnd.jupyter.widget-view+json": {
              "model_id": "2cf33435aebd471fbd3e0604978766a0",
              "version_major": 2,
              "version_minor": 0
            },
            "text/plain": [
              "Map:   0%|          | 0/112000 [00:00<?, ? examples/s]"
            ]
          },
          "metadata": {},
          "output_type": "display_data"
        }
      ],
      "source": [
        "train_data = train_data.map(\n",
        "    tokenize_and_numericalize_example, fn_kwargs={\"tokenizer\": tokenizer}\n",
        ")\n",
        "valid_data = valid_data.map(\n",
        "    tokenize_and_numericalize_example, fn_kwargs={\"tokenizer\": tokenizer}\n",
        ")\n",
        "test_data = test_data.map(\n",
        "    tokenize_and_numericalize_example, fn_kwargs={\"tokenizer\": tokenizer}\n",
        ")"
      ]
    },
    {
      "cell_type": "code",
      "execution_count": 9,
      "id": "e39e64b1",
      "metadata": {
        "colab": {
          "base_uri": "https://localhost:8080/"
        },
        "id": "e39e64b1",
        "outputId": "e6d77670-0d25-46ee-dfab-c8a070494d93"
      },
      "outputs": [
        {
          "data": {
            "text/plain": [
              "{'text': \"One of our clients brought a beautiful tray of sandwiches for lunch today. I went straight for The California which had avocado, red onions, tomatoes, alfalfa sprouts, banana peppers, Monterey cheese, and mayo on wheat bread. It was wonderful! So I immediately had to do more research about this deli and I am sold! The ingredients are incredibly fresh and I absolutely LOVE how much stuff is in the sandwich! The other three sandwiches look just as delicious (one has turkey and bacon, the second one has pastrami, and the third had pastrami and turkey).  I don't think I could ask of much more out of a sandwich: fresh ingredients, lots of vegetables, and tasty. I will definitely be taking my sandwich-loving fianc\\\\u00e9 to give it a whirl!\",\n",
              " 'label': 1,\n",
              " 'ids': [101,\n",
              "  2028,\n",
              "  1997,\n",
              "  2256,\n",
              "  7846,\n",
              "  2716,\n",
              "  1037,\n",
              "  3376,\n",
              "  11851,\n",
              "  1997,\n",
              "  22094,\n",
              "  2005,\n",
              "  6265,\n",
              "  2651,\n",
              "  1012,\n",
              "  1045,\n",
              "  2253,\n",
              "  3442,\n",
              "  2005,\n",
              "  1996,\n",
              "  2662,\n",
              "  2029,\n",
              "  2018,\n",
              "  20704,\n",
              "  24755,\n",
              "  3527,\n",
              "  1010,\n",
              "  2417,\n",
              "  24444,\n",
              "  1010,\n",
              "  12851,\n",
              "  1010,\n",
              "  22989,\n",
              "  10270,\n",
              "  2050,\n",
              "  11867,\n",
              "  22494,\n",
              "  3215,\n",
              "  1010,\n",
              "  15212,\n",
              "  23582,\n",
              "  1010,\n",
              "  19860,\n",
              "  8808,\n",
              "  1010,\n",
              "  1998,\n",
              "  14415,\n",
              "  2006,\n",
              "  10500,\n",
              "  7852,\n",
              "  1012,\n",
              "  2009,\n",
              "  2001,\n",
              "  6919,\n",
              "  999,\n",
              "  2061,\n",
              "  1045,\n",
              "  3202,\n",
              "  2018,\n",
              "  2000,\n",
              "  2079,\n",
              "  2062,\n",
              "  2470,\n",
              "  2055,\n",
              "  2023,\n",
              "  3972,\n",
              "  2072,\n",
              "  1998,\n",
              "  1045,\n",
              "  2572,\n",
              "  2853,\n",
              "  999,\n",
              "  1996,\n",
              "  12760,\n",
              "  2024,\n",
              "  11757,\n",
              "  4840,\n",
              "  1998,\n",
              "  1045,\n",
              "  7078,\n",
              "  2293,\n",
              "  2129,\n",
              "  2172,\n",
              "  4933,\n",
              "  2003,\n",
              "  1999,\n",
              "  1996,\n",
              "  11642,\n",
              "  999,\n",
              "  1996,\n",
              "  2060,\n",
              "  2093,\n",
              "  22094,\n",
              "  2298,\n",
              "  2074,\n",
              "  2004,\n",
              "  12090,\n",
              "  1006,\n",
              "  2028,\n",
              "  2038,\n",
              "  4977,\n",
              "  1998,\n",
              "  11611,\n",
              "  1010,\n",
              "  1996,\n",
              "  2117,\n",
              "  2028,\n",
              "  2038,\n",
              "  2627,\n",
              "  6444,\n",
              "  2072,\n",
              "  1010,\n",
              "  1998,\n",
              "  1996,\n",
              "  2353,\n",
              "  2018,\n",
              "  2627,\n",
              "  6444,\n",
              "  2072,\n",
              "  1998,\n",
              "  4977,\n",
              "  1007,\n",
              "  1012,\n",
              "  1045,\n",
              "  2123,\n",
              "  1005,\n",
              "  1056,\n",
              "  2228,\n",
              "  1045,\n",
              "  2071,\n",
              "  3198,\n",
              "  1997,\n",
              "  2172,\n",
              "  2062,\n",
              "  2041,\n",
              "  1997,\n",
              "  1037,\n",
              "  11642,\n",
              "  1024,\n",
              "  4840,\n",
              "  12760,\n",
              "  1010,\n",
              "  7167,\n",
              "  1997,\n",
              "  11546,\n",
              "  1010,\n",
              "  1998,\n",
              "  11937,\n",
              "  21756,\n",
              "  1012,\n",
              "  1045,\n",
              "  2097,\n",
              "  5791,\n",
              "  2022,\n",
              "  2635,\n",
              "  2026,\n",
              "  11642,\n",
              "  1011,\n",
              "  8295,\n",
              "  19807,\n",
              "  12273,\n",
              "  1032,\n",
              "  1057,\n",
              "  8889,\n",
              "  2063,\n",
              "  2683,\n",
              "  2000,\n",
              "  2507,\n",
              "  2009,\n",
              "  1037,\n",
              "  1059,\n",
              "  11961,\n",
              "  2140,\n",
              "  999,\n",
              "  102]}"
            ]
          },
          "execution_count": 9,
          "metadata": {},
          "output_type": "execute_result"
        }
      ],
      "source": [
        "train_data[0]"
      ]
    },
    {
      "cell_type": "code",
      "execution_count": 10,
      "id": "3cdaa10f",
      "metadata": {
        "id": "3cdaa10f"
      },
      "outputs": [],
      "source": [
        "pad_index = tokenizer.pad_token_id"
      ]
    },
    {
      "cell_type": "code",
      "execution_count": 11,
      "id": "cc54e1eb",
      "metadata": {
        "id": "cc54e1eb"
      },
      "outputs": [],
      "source": [
        "train_data = train_data.with_format(type=\"torch\", columns=[\"ids\", \"label\"])\n",
        "valid_data = valid_data.with_format(type=\"torch\", columns=[\"ids\", \"label\"])\n",
        "test_data = test_data.with_format(type=\"torch\", columns=[\"ids\", \"label\"])"
      ]
    },
    {
      "cell_type": "code",
      "execution_count": 12,
      "id": "bea43ba0",
      "metadata": {
        "id": "bea43ba0"
      },
      "outputs": [],
      "source": [
        "def get_collate_fn(pad_index):\n",
        "    def collate_fn(batch):\n",
        "        batch_ids = [i[\"ids\"] for i in batch]\n",
        "        batch_ids = nn.utils.rnn.pad_sequence(\n",
        "            batch_ids, padding_value=pad_index, batch_first=True\n",
        "        )\n",
        "        batch_label = [i[\"label\"] for i in batch]\n",
        "        batch_label = torch.stack(batch_label)\n",
        "        batch = {\"ids\": batch_ids, \"label\": batch_label}\n",
        "        return batch\n",
        "\n",
        "    return collate_fn"
      ]
    },
    {
      "cell_type": "code",
      "execution_count": 13,
      "id": "ea2176bb",
      "metadata": {
        "id": "ea2176bb"
      },
      "outputs": [],
      "source": [
        "def get_data_loader(dataset, batch_size, pad_index, shuffle=False):\n",
        "    collate_fn = get_collate_fn(pad_index)\n",
        "    data_loader = torch.utils.data.DataLoader(\n",
        "        dataset=dataset,\n",
        "        batch_size=batch_size,\n",
        "        collate_fn=collate_fn,\n",
        "        shuffle=shuffle,\n",
        "    )\n",
        "    return data_loader"
      ]
    },
    {
      "cell_type": "code",
      "execution_count": 14,
      "id": "dce162ba",
      "metadata": {
        "id": "dce162ba"
      },
      "outputs": [],
      "source": [
        "batch_size = 16\n",
        "\n",
        "train_data_loader = get_data_loader(train_data, batch_size, pad_index, shuffle=True)\n",
        "valid_data_loader = get_data_loader(valid_data, batch_size, pad_index)\n",
        "test_data_loader = get_data_loader(test_data, batch_size, pad_index)"
      ]
    },
    {
      "cell_type": "code",
      "execution_count": 15,
      "id": "01a637ac",
      "metadata": {
        "id": "01a637ac"
      },
      "outputs": [],
      "source": [
        "class Transformer(nn.Module):\n",
        "    def __init__(self, transformer, output_dim, freeze):\n",
        "        super().__init__()\n",
        "        self.transformer = transformer\n",
        "        hidden_dim = transformer.config.hidden_size\n",
        "        self.fc = nn.Linear(hidden_dim, output_dim)\n",
        "        if freeze:\n",
        "            for param in self.transformer.parameters():\n",
        "                param.requires_grad = False\n",
        "\n",
        "    def forward(self, ids):\n",
        "        # ids = [batch size, seq len]\n",
        "        output = self.transformer(ids, output_attentions=True)\n",
        "        hidden = output.last_hidden_state\n",
        "        # hidden = [batch size, seq len, hidden dim]\n",
        "        attention = output.attentions[-1]\n",
        "        # attention = [batch size, n heads, seq len, seq len]\n",
        "        cls_hidden = hidden[:, 0, :]\n",
        "        prediction = self.fc(torch.tanh(cls_hidden))\n",
        "        # prediction = [batch size, output dim]\n",
        "        return prediction"
      ]
    },
    {
      "cell_type": "code",
      "execution_count": 16,
      "id": "f057f3b6",
      "metadata": {
        "id": "f057f3b6"
      },
      "outputs": [],
      "source": [
        "transformer = transformers.AutoModel.from_pretrained(transformer_name)"
      ]
    },
    {
      "cell_type": "code",
      "execution_count": 17,
      "id": "e1daf186",
      "metadata": {
        "colab": {
          "base_uri": "https://localhost:8080/"
        },
        "id": "e1daf186",
        "outputId": "3adea4b2-0605-43d4-b6f0-6ae401f93fcc"
      },
      "outputs": [
        {
          "data": {
            "text/plain": [
              "768"
            ]
          },
          "execution_count": 17,
          "metadata": {},
          "output_type": "execute_result"
        }
      ],
      "source": [
        "transformer.config.hidden_size"
      ]
    },
    {
      "cell_type": "code",
      "execution_count": 18,
      "id": "ff995192",
      "metadata": {
        "id": "ff995192"
      },
      "outputs": [],
      "source": [
        "output_dim = len(train_data[\"label\"].unique())\n",
        "freeze = False\n",
        "\n",
        "model = Transformer(transformer, output_dim, freeze)"
      ]
    },
    {
      "cell_type": "code",
      "execution_count": 19,
      "id": "f15efc07",
      "metadata": {
        "colab": {
          "base_uri": "https://localhost:8080/"
        },
        "id": "f15efc07",
        "outputId": "902bf7cc-2852-4712-bbc8-3ec2464ae54c"
      },
      "outputs": [
        {
          "name": "stdout",
          "output_type": "stream",
          "text": [
            "The model has 109,483,778 trainable parameters\n"
          ]
        }
      ],
      "source": [
        "def count_parameters(model):\n",
        "    return sum(p.numel() for p in model.parameters() if p.requires_grad)\n",
        "\n",
        "\n",
        "print(f\"The model has {count_parameters(model):,} trainable parameters\")"
      ]
    },
    {
      "cell_type": "code",
      "execution_count": 20,
      "id": "d2a9f4f7",
      "metadata": {
        "id": "d2a9f4f7"
      },
      "outputs": [],
      "source": [
        "lr = 1e-5\n",
        "\n",
        "optimizer = optim.Adam(model.parameters(), lr=lr)"
      ]
    },
    {
      "cell_type": "code",
      "execution_count": 21,
      "id": "e82c640f",
      "metadata": {
        "id": "e82c640f"
      },
      "outputs": [],
      "source": [
        "criterion = nn.CrossEntropyLoss()"
      ]
    },
    {
      "cell_type": "code",
      "execution_count": 22,
      "id": "0bb2a2a4",
      "metadata": {
        "colab": {
          "base_uri": "https://localhost:8080/"
        },
        "id": "0bb2a2a4",
        "outputId": "f78bfa6c-3061-454d-8027-a6ce57892369"
      },
      "outputs": [
        {
          "data": {
            "text/plain": [
              "device(type='cuda')"
            ]
          },
          "execution_count": 22,
          "metadata": {},
          "output_type": "execute_result"
        }
      ],
      "source": [
        "device = torch.device(\"cuda\" if torch.cuda.is_available() else \"cpu\")\n",
        "\n",
        "device"
      ]
    },
    {
      "cell_type": "code",
      "execution_count": 23,
      "id": "6fc62ff8",
      "metadata": {
        "id": "6fc62ff8"
      },
      "outputs": [],
      "source": [
        "model = model.to(device)\n",
        "criterion = criterion.to(device)"
      ]
    },
    {
      "cell_type": "code",
      "execution_count": 24,
      "id": "98f54638",
      "metadata": {
        "id": "98f54638"
      },
      "outputs": [],
      "source": [
        "def train(data_loader, model, criterion, optimizer, device):\n",
        "    model.train()\n",
        "    epoch_losses = []\n",
        "    epoch_accs = []\n",
        "    for batch in tqdm.tqdm(data_loader, desc=\"training...\"):\n",
        "        ids = batch[\"ids\"].to(device)\n",
        "        label = batch[\"label\"].to(device)\n",
        "        prediction = model(ids)\n",
        "        loss = criterion(prediction, label)\n",
        "        accuracy = get_accuracy(prediction, label)\n",
        "        optimizer.zero_grad()\n",
        "        loss.backward()\n",
        "        optimizer.step()\n",
        "        epoch_losses.append(loss.item())\n",
        "        epoch_accs.append(accuracy.item())\n",
        "    return np.mean(epoch_losses), np.mean(epoch_accs)"
      ]
    },
    {
      "cell_type": "code",
      "execution_count": 25,
      "id": "df0424bd",
      "metadata": {
        "id": "df0424bd"
      },
      "outputs": [],
      "source": [
        "def evaluate(data_loader, model, criterion, device):\n",
        "    model.eval()\n",
        "    epoch_losses = []\n",
        "    epoch_accs = []\n",
        "    with torch.no_grad():\n",
        "        for batch in tqdm.tqdm(data_loader, desc=\"evaluating...\"):\n",
        "            ids = batch[\"ids\"].to(device)\n",
        "            label = batch[\"label\"].to(device)\n",
        "            prediction = model(ids)\n",
        "            loss = criterion(prediction, label)\n",
        "            accuracy = get_accuracy(prediction, label)\n",
        "            epoch_losses.append(loss.item())\n",
        "            epoch_accs.append(accuracy.item())\n",
        "    return np.mean(epoch_losses), np.mean(epoch_accs)"
      ]
    },
    {
      "cell_type": "code",
      "execution_count": 26,
      "id": "34331854",
      "metadata": {
        "id": "34331854"
      },
      "outputs": [],
      "source": [
        "def get_accuracy(prediction, label):\n",
        "    batch_size, _ = prediction.shape\n",
        "    predicted_classes = prediction.argmax(dim=-1)\n",
        "    correct_predictions = predicted_classes.eq(label).sum()\n",
        "    accuracy = correct_predictions / batch_size\n",
        "    return accuracy"
      ]
    },
    {
      "cell_type": "code",
      "execution_count": 27,
      "id": "df33ac5d",
      "metadata": {
        "colab": {
          "base_uri": "https://localhost:8080/"
        },
        "id": "df33ac5d",
        "outputId": "ffdb7f4b-83ca-410f-d84f-40c31d8193fd"
      },
      "outputs": [
        {
          "name": "stderr",
          "output_type": "stream",
          "text": [
            "training...:   0%|          | 0/28000 [00:00<?, ?it/s]We strongly recommend passing in an `attention_mask` since your input_ids may be padded. See https://huggingface.co/docs/transformers/troubleshooting#incorrect-output-when-padding-tokens-arent-masked.\n",
            "training...: 100%|██████████| 28000/28000 [3:10:29<00:00,  2.45it/s]\n",
            "evaluating...: 100%|██████████| 7000/7000 [15:50<00:00,  7.36it/s]\n"
          ]
        },
        {
          "name": "stdout",
          "output_type": "stream",
          "text": [
            "epoch: 0\n",
            "train_loss: 0.092, train_acc: 0.965\n",
            "valid_loss: 0.075, valid_acc: 0.972\n"
          ]
        },
        {
          "name": "stderr",
          "output_type": "stream",
          "text": [
            "training...: 100%|██████████| 28000/28000 [3:10:28<00:00,  2.45it/s]\n",
            "evaluating...: 100%|██████████| 7000/7000 [15:48<00:00,  7.38it/s]\n"
          ]
        },
        {
          "name": "stdout",
          "output_type": "stream",
          "text": [
            "epoch: 1\n",
            "train_loss: 0.052, train_acc: 0.981\n",
            "valid_loss: 0.070, valid_acc: 0.976\n"
          ]
        },
        {
          "name": "stderr",
          "output_type": "stream",
          "text": [
            "training...: 100%|██████████| 28000/28000 [3:10:40<00:00,  2.45it/s]\n",
            "evaluating...: 100%|██████████| 7000/7000 [15:51<00:00,  7.36it/s]"
          ]
        },
        {
          "name": "stdout",
          "output_type": "stream",
          "text": [
            "epoch: 2\n",
            "train_loss: 0.031, train_acc: 0.989\n",
            "valid_loss: 0.084, valid_acc: 0.974\n"
          ]
        },
        {
          "name": "stderr",
          "output_type": "stream",
          "text": [
            "\n"
          ]
        }
      ],
      "source": [
        "n_epochs = 3\n",
        "best_valid_loss = float(\"inf\")\n",
        "\n",
        "metrics = collections.defaultdict(list)\n",
        "\n",
        "for epoch in range(n_epochs):\n",
        "    train_loss, train_acc = train(\n",
        "        train_data_loader, model, criterion, optimizer, device\n",
        "    )\n",
        "    valid_loss, valid_acc = evaluate(valid_data_loader, model, criterion, device)\n",
        "    metrics[\"train_losses\"].append(train_loss)\n",
        "    metrics[\"train_accs\"].append(train_acc)\n",
        "    metrics[\"valid_losses\"].append(valid_loss)\n",
        "    metrics[\"valid_accs\"].append(valid_acc)\n",
        "    if valid_loss < best_valid_loss:\n",
        "        best_valid_loss = valid_loss\n",
        "        torch.save(model.state_dict(), \"transformer.pt\")\n",
        "    print(f\"epoch: {epoch}\")\n",
        "    print(f\"train_loss: {train_loss:.3f}, train_acc: {train_acc:.3f}\")\n",
        "    print(f\"valid_loss: {valid_loss:.3f}, valid_acc: {valid_acc:.3f}\")"
      ]
    },
    {
      "cell_type": "code",
      "execution_count": 28,
      "id": "8ac2a935",
      "metadata": {
        "colab": {
          "base_uri": "https://localhost:8080/",
          "height": 542
        },
        "id": "8ac2a935",
        "outputId": "0df86f40-f4a1-4e78-8558-19033d8f0a7d"
      },
      "outputs": [
        {
          "data": {
            "image/png": "[encoded data removed]",
            "text/plain": [
              "<Figure size 1000x600 with 1 Axes>"
            ]
          },
          "metadata": {},
          "output_type": "display_data"
        }
      ],
      "source": [
        "fig = plt.figure(figsize=(10, 6))\n",
        "ax = fig.add_subplot(1, 1, 1)\n",
        "ax.plot(metrics[\"train_losses\"], label=\"train loss\")\n",
        "ax.plot(metrics[\"valid_losses\"], label=\"valid loss\")\n",
        "ax.set_xlabel(\"epoch\")\n",
        "ax.set_ylabel(\"loss\")\n",
        "ax.set_xticks(range(n_epochs))\n",
        "ax.legend()\n",
        "ax.grid()"
      ]
    },
    {
      "cell_type": "code",
      "execution_count": 29,
      "id": "8796527d",
      "metadata": {
        "colab": {
          "base_uri": "https://localhost:8080/",
          "height": 542
        },
        "id": "8796527d",
        "outputId": "a7f1ac85-79cc-4dee-ebe8-1d7e7b7d2e75"
      },
      "outputs": [
        {
          "data": {
            "image/png": "[encoded data removed]",
            "text/plain": [
              "<Figure size 1000x600 with 1 Axes>"
            ]
          },
          "metadata": {},
          "output_type": "display_data"
        }
      ],
      "source": [
        "fig = plt.figure(figsize=(10, 6))\n",
        "ax = fig.add_subplot(1, 1, 1)\n",
        "ax.plot(metrics[\"train_accs\"], label=\"train accuracy\")\n",
        "ax.plot(metrics[\"valid_accs\"], label=\"valid accuracy\")\n",
        "ax.set_xlabel(\"epoch\")\n",
        "ax.set_ylabel(\"loss\")\n",
        "ax.set_xticks(range(n_epochs))\n",
        "ax.legend()\n",
        "ax.grid()"
      ]
    },
    {
      "cell_type": "code",
      "execution_count": 30,
      "id": "c9f36818",
      "metadata": {
        "colab": {
          "base_uri": "https://localhost:8080/"
        },
        "id": "c9f36818",
        "outputId": "6e0cf807-3595-4933-b7ab-19466bb0b6a9"
      },
      "outputs": [
        {
          "name": "stderr",
          "output_type": "stream",
          "text": [
            "evaluating...: 100%|██████████| 2375/2375 [05:18<00:00,  7.45it/s]\n"
          ]
        }
      ],
      "source": [
        "model.load_state_dict(torch.load(\"transformer.pt\"))\n",
        "\n",
        "test_loss, test_acc = evaluate(test_data_loader, model, criterion, device)"
      ]
    },
    {
      "cell_type": "code",
      "execution_count": 31,
      "id": "b1f14079",
      "metadata": {
        "colab": {
          "base_uri": "https://localhost:8080/"
        },
        "id": "b1f14079",
        "outputId": "68796842-904d-4cdd-deb4-0bddff3576c9"
      },
      "outputs": [
        {
          "name": "stdout",
          "output_type": "stream",
          "text": [
            "test_loss: 0.069, test_acc: 0.976\n"
          ]
        }
      ],
      "source": [
        "print(f\"test_loss: {test_loss:.3f}, test_acc: {test_acc:.3f}\")"
      ]
    },
    {
      "cell_type": "code",
      "execution_count": 32,
      "id": "fca30739",
      "metadata": {
        "id": "fca30739"
      },
      "outputs": [],
      "source": [
        "def predict_sentiment(text, model, tokenizer, device):\n",
        "    ids = tokenizer(text)[\"input_ids\"]\n",
        "    tensor = torch.LongTensor(ids).unsqueeze(dim=0).to(device)\n",
        "    prediction = model(tensor).squeeze(dim=0)\n",
        "    probability = torch.softmax(prediction, dim=-1)\n",
        "    predicted_class = prediction.argmax(dim=-1).item()\n",
        "    predicted_probability = probability[predicted_class].item()\n",
        "    return predicted_class, predicted_probability"
      ]
    },
    {
      "cell_type": "code",
      "execution_count": 33,
      "id": "bd35e378",
      "metadata": {
        "colab": {
          "base_uri": "https://localhost:8080/"
        },
        "id": "bd35e378",
        "outputId": "e1067951-b55d-4800-a8e2-af00cced756e"
      },
      "outputs": [
        {
          "data": {
            "text/plain": [
              "(0, 0.9995473027229309)"
            ]
          },
          "execution_count": 33,
          "metadata": {},
          "output_type": "execute_result"
        }
      ],
      "source": [
        "text = \"This film is terrible!\"\n",
        "\n",
        "predict_sentiment(text, model, tokenizer, device)"
      ]
    },
    {
      "cell_type": "code",
      "execution_count": 34,
      "id": "b53900c7",
      "metadata": {
        "colab": {
          "base_uri": "https://localhost:8080/"
        },
        "id": "b53900c7",
        "outputId": "8ff70fdd-a026-4518-f1a3-0ad06d144f04"
      },
      "outputs": [
        {
          "data": {
            "text/plain": [
              "(1, 0.9995094537734985)"
            ]
          },
          "execution_count": 34,
          "metadata": {},
          "output_type": "execute_result"
        }
      ],
      "source": [
        "text = \"This film is great!\"\n",
        "\n",
        "predict_sentiment(text, model, tokenizer, device)"
      ]
    },
    {
      "cell_type": "code",
      "execution_count": 35,
      "id": "ad677cd1",
      "metadata": {
        "colab": {
          "base_uri": "https://localhost:8080/"
        },
        "id": "ad677cd1",
        "outputId": "47352d80-96e7-405c-82d9-bcdacdd4db95"
      },
      "outputs": [
        {
          "data": {
            "text/plain": [
              "(1, 0.9832170009613037)"
            ]
          },
          "execution_count": 35,
          "metadata": {},
          "output_type": "execute_result"
        }
      ],
      "source": [
        "text = \"This film is not terrible, it's great!\"\n",
        "\n",
        "predict_sentiment(text, model, tokenizer, device)"
      ]
    },
    {
      "cell_type": "code",
      "execution_count": 36,
      "id": "e7c35353",
      "metadata": {
        "colab": {
          "base_uri": "https://localhost:8080/"
        },
        "id": "e7c35353",
        "outputId": "d10ef958-732b-49ac-e887-0943e0cb1d1f"
      },
      "outputs": [
        {
          "data": {
            "text/plain": [
              "(0, 0.9994843006134033)"
            ]
          },
          "execution_count": 36,
          "metadata": {},
          "output_type": "execute_result"
        }
      ],
      "source": [
        "text = \"This film is not great, it's terrible!\"\n",
        "\n",
        "predict_sentiment(text, model, tokenizer, device)"
      ]
    }
  ],
  "metadata": {
    "accelerator": "GPU",
    "colab": {
      "gpuType": "V100",
      "machine_shape": "hm",
      "provenance": []
    },
    "kernelspec": {
      "display_name": "Python 3",
      "name": "python3"
    },
    "language_info": {
      "codemirror_mode": {
        "name": "ipython",
        "version": 3
      },
      "file_extension": ".py",
      "mimetype": "text/x-python",
      "name": "python",
      "nbconvert_exporter": "python",
      "pygments_lexer": "ipython3",
      "version": "3.9.12"
    },
    "widgets": {
      "application/vnd.jupyter.widget-state+json": {
        "175804b2a988430b917390f976b0a97c": {
          "model_module": "@jupyter-widgets/base",
          "model_module_version": "1.2.0",
          "model_name": "LayoutModel",
          "state": {
            "_model_module": "@jupyter-widgets/base",
            "_model_module_version": "1.2.0",
            "_model_name": "LayoutModel",
            "_view_count": null,
            "_view_module": "@jupyter-widgets/base",
            "_view_module_version": "1.2.0",
            "_view_name": "LayoutView",
            "align_content": null,
            "align_items": null,
            "align_self": null,
            "border": null,
            "bottom": null,
            "display": null,
            "flex": null,
            "flex_flow": null,
            "grid_area": null,
            "grid_auto_columns": null,
            "grid_auto_flow": null,
            "grid_auto_rows": null,
            "grid_column": null,
            "grid_gap": null,
            "grid_row": null,
            "grid_template_areas": null,
            "grid_template_columns": null,
            "grid_template_rows": null,
            "height": null,
            "justify_content": null,
            "justify_items": null,
            "left": null,
            "margin": null,
            "max_height": null,
            "max_width": null,
            "min_height": null,
            "min_width": null,
            "object_fit": null,
            "object_position": null,
            "order": null,
            "overflow": null,
            "overflow_x": null,
            "overflow_y": null,
            "padding": null,
            "right": null,
            "top": null,
            "visibility": null,
            "width": null
          }
        },
        "1cd37cc2178c4c0693dadc73b0a8f08f": {
          "model_module": "@jupyter-widgets/base",
          "model_module_version": "1.2.0",
          "model_name": "LayoutModel",
          "state": {
            "_model_module": "@jupyter-widgets/base",
            "_model_module_version": "1.2.0",
            "_model_name": "LayoutModel",
            "_view_count": null,
            "_view_module": "@jupyter-widgets/base",
            "_view_module_version": "1.2.0",
            "_view_name": "LayoutView",
            "align_content": null,
            "align_items": null,
            "align_self": null,
            "border": null,
            "bottom": null,
            "display": null,
            "flex": null,
            "flex_flow": null,
            "grid_area": null,
            "grid_auto_columns": null,
            "grid_auto_flow": null,
            "grid_auto_rows": null,
            "grid_column": null,
            "grid_gap": null,
            "grid_row": null,
            "grid_template_areas": null,
            "grid_template_columns": null,
            "grid_template_rows": null,
            "height": null,
            "justify_content": null,
            "justify_items": null,
            "left": null,
            "margin": null,
            "max_height": null,
            "max_width": null,
            "min_height": null,
            "min_width": null,
            "object_fit": null,
            "object_position": null,
            "order": null,
            "overflow": null,
            "overflow_x": null,
            "overflow_y": null,
            "padding": null,
            "right": null,
            "top": null,
            "visibility": null,
            "width": null
          }
        },
        "226e3da8a30d4ec3bb9096ef190acff0": {
          "model_module": "@jupyter-widgets/controls",
          "model_module_version": "1.5.0",
          "model_name": "ProgressStyleModel",
          "state": {
            "_model_module": "@jupyter-widgets/controls",
            "_model_module_version": "1.5.0",
            "_model_name": "ProgressStyleModel",
            "_view_count": null,
            "_view_module": "@jupyter-widgets/base",
            "_view_module_version": "1.2.0",
            "_view_name": "StyleView",
            "bar_color": null,
            "description_width": ""
          }
        },
        "25366f5c29cd4d7aa9c94d21de6ad90d": {
          "model_module": "@jupyter-widgets/controls",
          "model_module_version": "1.5.0",
          "model_name": "HTMLModel",
          "state": {
            "_dom_classes": [],
            "_model_module": "@jupyter-widgets/controls",
            "_model_module_version": "1.5.0",
            "_model_name": "HTMLModel",
            "_view_count": null,
            "_view_module": "@jupyter-widgets/controls",
            "_view_module_version": "1.5.0",
            "_view_name": "HTMLView",
            "description": "",
            "description_tooltip": null,
            "layout": "IPY_MODEL_175804b2a988430b917390f976b0a97c",
            "placeholder": "​",
            "style": "IPY_MODEL_53f7019128ce4fb3aa0d475070f6207e",
            "value": "Map: 100%"
          }
        },
        "2cf33435aebd471fbd3e0604978766a0": {
          "model_module": "@jupyter-widgets/controls",
          "model_module_version": "1.5.0",
          "model_name": "HBoxModel",
          "state": {
            "_dom_classes": [],
            "_model_module": "@jupyter-widgets/controls",
            "_model_module_version": "1.5.0",
            "_model_name": "HBoxModel",
            "_view_count": null,
            "_view_module": "@jupyter-widgets/controls",
            "_view_module_version": "1.5.0",
            "_view_name": "HBoxView",
            "box_style": "",
            "children": [
              "IPY_MODEL_25366f5c29cd4d7aa9c94d21de6ad90d",
              "IPY_MODEL_b04fdea4a9474184b5a2cbd0d3428d34",
              "IPY_MODEL_6ec3bf0e53a04b009781f78437832155"
            ],
            "layout": "IPY_MODEL_b290c853a8ea4d60965a706fa5774643"
          }
        },
        "3eb508b375b54707b16ec35a11f512f1": {
          "model_module": "@jupyter-widgets/controls",
          "model_module_version": "1.5.0",
          "model_name": "DescriptionStyleModel",
          "state": {
            "_model_module": "@jupyter-widgets/controls",
            "_model_module_version": "1.5.0",
            "_model_name": "DescriptionStyleModel",
            "_view_count": null,
            "_view_module": "@jupyter-widgets/base",
            "_view_module_version": "1.2.0",
            "_view_name": "StyleView",
            "description_width": ""
          }
        },
        "53f7019128ce4fb3aa0d475070f6207e": {
          "model_module": "@jupyter-widgets/controls",
          "model_module_version": "1.5.0",
          "model_name": "DescriptionStyleModel",
          "state": {
            "_model_module": "@jupyter-widgets/controls",
            "_model_module_version": "1.5.0",
            "_model_name": "DescriptionStyleModel",
            "_view_count": null,
            "_view_module": "@jupyter-widgets/base",
            "_view_module_version": "1.2.0",
            "_view_name": "StyleView",
            "description_width": ""
          }
        },
        "68e41c0a36b748d8b80bd132e2772186": {
          "model_module": "@jupyter-widgets/base",
          "model_module_version": "1.2.0",
          "model_name": "LayoutModel",
          "state": {
            "_model_module": "@jupyter-widgets/base",
            "_model_module_version": "1.2.0",
            "_model_name": "LayoutModel",
            "_view_count": null,
            "_view_module": "@jupyter-widgets/base",
            "_view_module_version": "1.2.0",
            "_view_name": "LayoutView",
            "align_content": null,
            "align_items": null,
            "align_self": null,
            "border": null,
            "bottom": null,
            "display": null,
            "flex": null,
            "flex_flow": null,
            "grid_area": null,
            "grid_auto_columns": null,
            "grid_auto_flow": null,
            "grid_auto_rows": null,
            "grid_column": null,
            "grid_gap": null,
            "grid_row": null,
            "grid_template_areas": null,
            "grid_template_columns": null,
            "grid_template_rows": null,
            "height": null,
            "justify_content": null,
            "justify_items": null,
            "left": null,
            "margin": null,
            "max_height": null,
            "max_width": null,
            "min_height": null,
            "min_width": null,
            "object_fit": null,
            "object_position": null,
            "order": null,
            "overflow": null,
            "overflow_x": null,
            "overflow_y": null,
            "padding": null,
            "right": null,
            "top": null,
            "visibility": null,
            "width": null
          }
        },
        "6ec3bf0e53a04b009781f78437832155": {
          "model_module": "@jupyter-widgets/controls",
          "model_module_version": "1.5.0",
          "model_name": "HTMLModel",
          "state": {
            "_dom_classes": [],
            "_model_module": "@jupyter-widgets/controls",
            "_model_module_version": "1.5.0",
            "_model_name": "HTMLModel",
            "_view_count": null,
            "_view_module": "@jupyter-widgets/controls",
            "_view_module_version": "1.5.0",
            "_view_name": "HTMLView",
            "description": "",
            "description_tooltip": null,
            "layout": "IPY_MODEL_68e41c0a36b748d8b80bd132e2772186",
            "placeholder": "​",
            "style": "IPY_MODEL_3eb508b375b54707b16ec35a11f512f1",
            "value": " 112000/112000 [01:21&lt;00:00, 1484.65 examples/s]"
          }
        },
        "b04fdea4a9474184b5a2cbd0d3428d34": {
          "model_module": "@jupyter-widgets/controls",
          "model_module_version": "1.5.0",
          "model_name": "FloatProgressModel",
          "state": {
            "_dom_classes": [],
            "_model_module": "@jupyter-widgets/controls",
            "_model_module_version": "1.5.0",
            "_model_name": "FloatProgressModel",
            "_view_count": null,
            "_view_module": "@jupyter-widgets/controls",
            "_view_module_version": "1.5.0",
            "_view_name": "ProgressView",
            "bar_style": "success",
            "description": "",
            "description_tooltip": null,
            "layout": "IPY_MODEL_1cd37cc2178c4c0693dadc73b0a8f08f",
            "max": 112000,
            "min": 0,
            "orientation": "horizontal",
            "style": "IPY_MODEL_226e3da8a30d4ec3bb9096ef190acff0",
            "value": 112000
          }
        },
        "b290c853a8ea4d60965a706fa5774643": {
          "model_module": "@jupyter-widgets/base",
          "model_module_version": "1.2.0",
          "model_name": "LayoutModel",
          "state": {
            "_model_module": "@jupyter-widgets/base",
            "_model_module_version": "1.2.0",
            "_model_name": "LayoutModel",
            "_view_count": null,
            "_view_module": "@jupyter-widgets/base",
            "_view_module_version": "1.2.0",
            "_view_name": "LayoutView",
            "align_content": null,
            "align_items": null,
            "align_self": null,
            "border": null,
            "bottom": null,
            "display": null,
            "flex": null,
            "flex_flow": null,
            "grid_area": null,
            "grid_auto_columns": null,
            "grid_auto_flow": null,
            "grid_auto_rows": null,
            "grid_column": null,
            "grid_gap": null,
            "grid_row": null,
            "grid_template_areas": null,
            "grid_template_columns": null,
            "grid_template_rows": null,
            "height": null,
            "justify_content": null,
            "justify_items": null,
            "left": null,
            "margin": null,
            "max_height": null,
            "max_width": null,
            "min_height": null,
            "min_width": null,
            "object_fit": null,
            "object_position": null,
            "order": null,
            "overflow": null,
            "overflow_x": null,
            "overflow_y": null,
            "padding": null,
            "right": null,
            "top": null,
            "visibility": null,
            "width": null
          }
        }
      }
    }
  },
  "nbformat": 4,
  "nbformat_minor": 5
}
